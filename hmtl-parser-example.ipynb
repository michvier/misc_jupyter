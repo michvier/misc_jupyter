{
 "cells": [
  {
   "cell_type": "code",
   "execution_count": 117,
   "id": "36fd3f3f",
   "metadata": {},
   "outputs": [],
   "source": [
    "import requests\n",
    "import time\n",
    "import csv\n",
    "import re\n",
    "from bs4 import BeautifulSoup\n",
    "import pprint\n",
    "\n",
    "pp = pprint.PrettyPrinter(indent=1)\n"
   ]
  },
  {
   "cell_type": "code",
   "execution_count": 120,
   "id": "30f446ec",
   "metadata": {},
   "outputs": [],
   "source": [
    "def parse_languages(url):\n",
    "    html_text = requests.get(seed_url).text\n",
    "    soup = BeautifulSoup(html_text, \"html.parser\")\n",
    "\n",
    "    languages = soup.find_all(\"span\",  class_=\"color-fg-default text-bold mr-1\")\n",
    "\n",
    "    parsed_lang = {}\n",
    "    \n",
    "    for b in books:\n",
    "        for child in b.children:\n",
    "            lang_name = b.text\n",
    "\n",
    "            for s in child.find_next():\n",
    "                lang_occ =s\n",
    "                parsed_lang[lang_name]=s\n",
    "    return parsed_lang\n"
   ]
  },
  {
   "cell_type": "code",
   "execution_count": 121,
   "id": "5be49c16",
   "metadata": {},
   "outputs": [
    {
     "name": "stdout",
     "output_type": "stream",
     "text": [
      "{'Batchfile': '0.0%',\n",
      " 'CMake': '0.5%',\n",
      " 'GAP': '17.0%',\n",
      " 'Java': '81.2%',\n",
      " 'Python': '1.2%',\n",
      " 'Xtend': '0.1%'}\n"
     ]
    }
   ],
   "source": [
    "repo_url = \"https://github.com/LIT-Rumors/grum-public\"\n",
    "\n",
    "found_languages = parse_languages(repo_url)\n",
    "pp.pprint(found_languages)"
   ]
  },
  {
   "cell_type": "code",
   "execution_count": null,
   "id": "0180688a",
   "metadata": {},
   "outputs": [],
   "source": []
  }
 ],
 "metadata": {
  "kernelspec": {
   "display_name": "Python 3 (ipykernel)",
   "language": "python",
   "name": "python3"
  },
  "language_info": {
   "codemirror_mode": {
    "name": "ipython",
    "version": 3
   },
   "file_extension": ".py",
   "mimetype": "text/x-python",
   "name": "python",
   "nbconvert_exporter": "python",
   "pygments_lexer": "ipython3",
   "version": "3.9.12"
  }
 },
 "nbformat": 4,
 "nbformat_minor": 5
}
